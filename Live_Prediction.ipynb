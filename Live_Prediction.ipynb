{
 "cells": [
  {
   "cell_type": "code",
   "execution_count": 2,
   "metadata": {},
   "outputs": [],
   "source": [
    "import keras\n",
    "import numpy as np\n",
    "import librosa\n",
    "import soundfile as sf\n",
    "\n",
    "class modelPredictions:\n",
    "\n",
    "    def __init__(self, path, file):\n",
    "        self.path = path\n",
    "        self.file = file\n",
    "\n",
    "    def load_model(self):\n",
    "        self.loaded_model = keras.models.load_model(self.path)\n",
    "        #return self.loaded_model.summary()\n",
    "\n",
    "    def predictEmotion(self):\n",
    "        data, sr = librosa.load(self.file)\n",
    "        mfccs = np.mean(librosa.feature.mfcc(y=data, sr=sr, n_mfcc=40).T, axis=0)\n",
    "        x = np.expand_dims(mfccs, axis=1)\n",
    "        x = np.expand_dims(x, axis=0)\n",
    "        predictedEmotion = self.loaded_model.predict_classes(x)\n",
    "        print(\"The predicted emotion is : \", \" \", self.convertclasstoemotion(predictedEmotion))\n",
    "\n",
    "    @staticmethod\n",
    "    def convertclasstoemotion(p):\n",
    "        #predictions(int) to understandable emotion labeling\n",
    "        label_conversion = {'0': 'neutral','1': 'calm','2': 'happy','3': 'sad','4': 'angry','5': 'fearful','6': 'disgust','7': 'surprised'}\n",
    "\n",
    "        for key, value in label_conversion.items():\n",
    "            if int(key) == p:\n",
    "                label = value\n",
    "        return label"
   ]
  },
  {
   "cell_type": "code",
   "execution_count": 4,
   "metadata": {},
   "outputs": [
    {
     "name": "stdout",
     "output_type": "stream",
     "text": [
      "The predicted emotion is :    sad\n"
     ]
    }
   ],
   "source": [
    "#Created the object p of class modelPredictions\n",
    "p1 = modelPredictions(path='CNN_Model.h5',file='Recording.wav')\n",
    "p1.load_model()\n",
    "#called predictEmotion function to predict emotion type of input file\n",
    "p1.predictEmotion()"
   ]
  },
  {
   "cell_type": "code",
   "execution_count": 5,
   "metadata": {},
   "outputs": [
    {
     "name": "stdout",
     "output_type": "stream",
     "text": [
      "The predicted emotion is :    surprised\n"
     ]
    }
   ],
   "source": [
    "#Created the object p of class modelPredictions\n",
    "p2 = modelPredictions(path='CNN_Model.h5',file='Recording-Surprise.wav')\n",
    "p2.load_model()\n",
    "#called predictEmotion function to predict emotion type of input file\n",
    "p2.predictEmotion()"
   ]
  },
  {
   "cell_type": "code",
   "execution_count": 7,
   "metadata": {},
   "outputs": [
    {
     "name": "stdout",
     "output_type": "stream",
     "text": [
      "The predicted emotion is :    happy\n"
     ]
    }
   ],
   "source": [
    "#Created the object p of class modelPredictions\n",
    "p3 = modelPredictions(path='CNN_Model.h5',file='Recording-Happy.wav')\n",
    "p3.load_model()\n",
    "#called predictEmotion function to predict emotion type of input file\n",
    "p3.predictEmotion()"
   ]
  }
 ],
 "metadata": {
  "kernelspec": {
   "display_name": "Python 3",
   "language": "python",
   "name": "python3"
  },
  "language_info": {
   "codemirror_mode": {
    "name": "ipython",
    "version": 3
   },
   "file_extension": ".py",
   "mimetype": "text/x-python",
   "name": "python",
   "nbconvert_exporter": "python",
   "pygments_lexer": "ipython3",
   "version": "3.8.8"
  }
 },
 "nbformat": 4,
 "nbformat_minor": 2
}
