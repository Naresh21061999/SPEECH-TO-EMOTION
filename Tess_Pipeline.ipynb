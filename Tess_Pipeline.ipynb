{
 "cells": [
  {
   "cell_type": "markdown",
   "id": "future-emission",
   "metadata": {},
   "source": [
    "## Pipeline for combining TESS and RAVDESS Datasets"
   ]
  },
  {
   "cell_type": "markdown",
   "id": "yellow-grocery",
   "metadata": {},
   "source": [
    "###### The Script builds 2 additional actor folders -Actor_25 and Actor_26  using features from the Toronto emotional speech set (TESS) dataset to facilitate the feature creation, the TESS data have been renamed using the same naming convention of the RAVDESS."
   ]
  },
  {
   "cell_type": "code",
   "execution_count": null,
   "id": "binding-review",
   "metadata": {},
   "outputs": [],
   "source": [
    "import os\n",
    "import shutil\n",
    "import random\n",
    "\n",
    "class TESSPipeline:\n",
    "    def create_tess_folders(tess_path,rav_path):\n",
    "        counter = 0\n",
    "        label_conversion = {'01': 'neutral',\n",
    "                            '03': 'happy',\n",
    "                            '04': 'sad',\n",
    "                            '05': 'angry',\n",
    "                            '06': 'fear',\n",
    "                            '07': 'disgust',\n",
    "                            '08': 'ps'}\n",
    "\n",
    "        for subdir, dirs, files in os.walk(tess_path):\n",
    "            for filename in files:\n",
    "                if filename.startswith('OAF'):\n",
    "                    destination_path = rav_path + 'Actor_26\\\\'\n",
    "                    old_file_path = os.path.join(os.path.abspath(subdir), filename)\n",
    "\n",
    "                    # Separate base from extension\n",
    "                    base, extension = os.path.splitext(filename)\n",
    "\n",
    "                    for key, value in label_conversion.items():\n",
    "                        if base.endswith(value):\n",
    "                            random_list = random.sample(range(10, 99), 7)\n",
    "                            file_name = '-'.join([str(i) for i in random_list])\n",
    "                            file_name_with_correct_emotion = file_name[:6] + key + file_name[8:] + extension\n",
    "                            new_file_path = destination_path + file_name_with_correct_emotion\n",
    "                            shutil.copy(old_file_path, new_file_path)\n",
    "\n",
    "                else:\n",
    "                    destination_path = rav_path + 'Actor_25\\\\'\n",
    "                    old_file_path = os.path.join(os.path.abspath(subdir), filename)\n",
    "\n",
    "                    #Separated the base from the extension\n",
    "                    base, extension = os.path.splitext(filename)\n",
    "\n",
    "                    for key, value in label_conversion.items():\n",
    "                        if base.endswith(value):\n",
    "                            random_list = random.sample(range(10, 99), 7)\n",
    "                            file_name = '-'.join([str(i) for i in random_list])\n",
    "                            file_name_with_correct_emotion = (file_name[:6] + key + file_name[8:] + extension).strip()\n",
    "                            new_file_path = destination_path + file_name_with_correct_emotion\n",
    "                            shutil.copy(old_file_path, new_file_path)\n",
    "\n",
    "\n",
    "tess_path='\\dataset_files\\\\TESS\\\\'\n",
    "rav_path='\\\\dataset_files\\\\RAVDESS\\\\'\n",
    "TESSPipeline.create_tess_folders(tess_path,rav_path)\n",
    "\n"
   ]
  }
 ],
 "metadata": {
  "kernelspec": {
   "display_name": "Python 3",
   "language": "python",
   "name": "python3"
  },
  "language_info": {
   "codemirror_mode": {
    "name": "ipython",
    "version": 3
   },
   "file_extension": ".py",
   "mimetype": "text/x-python",
   "name": "python",
   "nbconvert_exporter": "python",
   "pygments_lexer": "ipython3",
   "version": "3.8.8"
  }
 },
 "nbformat": 4,
 "nbformat_minor": 5
}
