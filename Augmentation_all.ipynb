{
 "cells": [
  {
   "cell_type": "code",
   "execution_count": null,
   "metadata": {},
   "outputs": [],
   "source": [
    "import librosa\n",
    "import os\n",
    "import numpy\n",
    "from scipy.io import wavfile"
   ]
  },
  {
   "cell_type": "code",
   "execution_count": null,
   "metadata": {},
   "outputs": [],
   "source": [
    "Files = []\n",
    "for root, dirs, files in os.walk(r'Final_Cleaned_Dataset/'):\n",
    "    for file in files:\n",
    "        if file.endswith('.wav'):\n",
    "            Files.append(file)"
   ]
  },
  {
   "cell_type": "code",
   "execution_count": null,
   "metadata": {},
   "outputs": [],
   "source": [
    "n_steps = -1\n",
    "for i in Files:\n",
    "    y, sr = librosa.load('Final_Cleaned_Dataset/'+i, duration=2.97)\n",
    "    y_changed = librosa.effects.pitch_shift(y, sr, n_steps=n_steps)\n",
    "    wavfile.write(filename= 'Final_Augmented/'+i+'_pm_1sl.wav' ,rate=sr,data=y_changed)"
   ]
  },
  {
   "cell_type": "code",
   "execution_count": null,
   "metadata": {},
   "outputs": [],
   "source": [
    "n_steps = -2.5\n",
    "for i in Files:\n",
    "    y, sr = librosa.load('Final_Cleaned_Dataset/'+i, duration=2.97)\n",
    "    y_changed = librosa.effects.pitch_shift(y, sr, n_steps=n_steps)\n",
    "    wavfile.write(filename= 'Final_Augmented/'+i+'_pm_2.5sl.wav' ,rate=sr,data=y_changed)"
   ]
  },
  {
   "cell_type": "code",
   "execution_count": null,
   "metadata": {},
   "outputs": [],
   "source": [
    "n_steps = -3.5\n",
    "for i in Files:\n",
    "    y, sr = librosa.load('Final_Cleaned_Dataset/'+i, duration=2.97)\n",
    "    y_changed = librosa.effects.pitch_shift(y, sr, n_steps=n_steps)\n",
    "    wavfile.write(filename= 'Final_Augmented/'+i+'_pm_3.5sl.wav',rate=sr,data=y_changed)"
   ]
  },
  {
   "cell_type": "code",
   "execution_count": null,
   "metadata": {},
   "outputs": [],
   "source": [
    "n_steps = 1\n",
    "for i in Files:\n",
    "    y, sr = librosa.load('Final_Cleaned_Dataset/'+i, duration=2.97)\n",
    "    y_changed = librosa.effects.pitch_shift(y, sr, n_steps=n_steps)\n",
    "    wavfile.write(filename= 'Final_Augmented/'+i+'_pm_1sh.wav',rate=sr,data=y_changed)"
   ]
  },
  {
   "cell_type": "code",
   "execution_count": null,
   "metadata": {},
   "outputs": [],
   "source": [
    "n_steps = 2.5\n",
    "for i in Files:\n",
    "    y, sr = librosa.load('Final_Cleaned_Dataset/'+i, duration=2.97)\n",
    "    y_changed = librosa.effects.pitch_shift(y, sr, n_steps=n_steps)\n",
    "    wavfile.write(filename= 'Final_Augmented/'+i+'_pm_2.5sh.wav' ,rate=sr,data=y_changed)"
   ]
  },
  {
   "cell_type": "code",
   "execution_count": null,
   "metadata": {},
   "outputs": [],
   "source": [
    "n_steps = 3.5\n",
    "for i in Files:\n",
    "    y, sr = librosa.load('Final_Cleaned_Dataset/'+i, duration=2.97)\n",
    "    y_changed = librosa.effects.pitch_shift(y, sr, n_steps=n_steps)\n",
    "    wavfile.write(filename= 'Final_Augmented/'+i+'_pm_3.5sh.wav',rate=sr,data=y_changed)"
   ]
  },
  {
   "cell_type": "code",
   "execution_count": null,
   "metadata": {},
   "outputs": [],
   "source": [
    "#Time stretch by 0.81sec\n",
    "for i in Files:\n",
    "    y, sr = librosa.load('Final_Cleaned_Dataset/'+i, duration=2.97)\n",
    "    y_changed = librosa.effects.time_stretch(y, rate=0.81)\n",
    "    wavfile.write(filename= 'Final_Augmented/'+i+'_speed_81.wav',rate=sr,data=y_changed)"
   ]
  },
  {
   "cell_type": "code",
   "execution_count": null,
   "metadata": {},
   "outputs": [],
   "source": [
    "#Time stretch by 1.01sec\n",
    "for i in Files:\n",
    "    y, sr = librosa.load('Final_Cleaned_Dataset/'+i, duration=2.97)\n",
    "    y_changed = librosa.effects.time_stretch(y, rate=1.07)\n",
    "    wavfile.write(filename= 'Final_Augmented/'+i+'_speed_107.wav',rate=sr,data=y_changed)"
   ]
  }
 ],
 "metadata": {
  "kernelspec": {
   "display_name": "Python 3",
   "language": "python",
   "name": "python3"
  },
  "language_info": {
   "codemirror_mode": {
    "name": "ipython",
    "version": 3
   },
   "file_extension": ".py",
   "mimetype": "text/x-python",
   "name": "python",
   "nbconvert_exporter": "python",
   "pygments_lexer": "ipython3",
   "version": "3.8.8"
  }
 },
 "nbformat": 4,
 "nbformat_minor": 2
}
